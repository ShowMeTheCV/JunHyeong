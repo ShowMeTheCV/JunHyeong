{
 "cells": [
  {
   "cell_type": "markdown",
   "id": "sitting-instrument",
   "metadata": {},
   "source": [
    "# 1. OpenCv 설치(얼룩말 책 p32~34)"
   ]
  },
  {
   "cell_type": "markdown",
   "id": "electronic-scale",
   "metadata": {},
   "source": [
    "python 패키지는 총 4가지 종류의 패키지가 있다.   \n",
    "\n",
    "-opencv-python   \n",
    "-opencv-contrib-python   \n",
    "-opencv-python-headless   \n",
    "-opencv-contrib-python-headless"
   ]
  },
  {
   "cell_type": "markdown",
   "id": "appreciated-probability",
   "metadata": {},
   "source": [
    "### 위의 네 가지 패키지는 어떻게 다른가요?"
   ]
  },
  {
   "cell_type": "markdown",
   "id": "relevant-mitchell",
   "metadata": {},
   "source": [
    "-opencv-python   \n",
    "    메인 모듈만 포함된 기본 Python OpenCV 패키지.   \n",
    "   \n",
    "-opencv-contrib-python   \n",
    "    메인 모듈과 확장 모듈이 포함된 패키지\n",
    "    \n",
    "-opencv-python-headless, opencv-contrib-python-headless   \n",
    "    GUI 기능이 탑재되지 않은 서버 환경용(헤드리스) 패키지"
   ]
  },
  {
   "cell_type": "markdown",
   "id": "returning-leadership",
   "metadata": {},
   "source": [
    "### IDE는 무엇인가요? 각 IDE는 어떻게 다른가요? 주로 어떤 산업에서 쓰이나요?"
   ]
  },
  {
   "cell_type": "markdown",
   "id": "confirmed-james",
   "metadata": {},
   "source": [
    "-IDE(Integrated Development Environmrnt)는 통합 개발 환경의 약어로 코딩, 디버그, 컴파일, 배포 등 프로그램 개발에 관련된 모든 작업을 하나의 프로그램 안에서 처리하는 환경을 제공하는 소프트웨어다."
   ]
  },
  {
   "cell_type": "markdown",
   "id": "convenient-security",
   "metadata": {},
   "source": [
    "-PyCharm   \n",
    "    코드마다 실행하는 파이썬 버전을 선택해 컴파일할 수 있다.   \n",
    "    \n",
    "-Eclipse   \n",
    "    서로 다른 여러 프로젝트를 동시에 열어 사용하고 관리할 수 있다.   \n",
    "    \n",
    "-Jupyter notebook   \n",
    "    텐서플로 같은 특정 라이브러리의 디버깅 및 컴파일을 시각적으로 확인할 수 있는 강력한 기능을 제공한다."
   ]
  },
  {
   "cell_type": "markdown",
   "id": "hundred-dialogue",
   "metadata": {},
   "source": [
    "### 써본 Text Editor가 있나요? 어떤 텍스트 에디터가 가장 마음에 드나요?"
   ]
  },
  {
   "cell_type": "markdown",
   "id": "olive-juice",
   "metadata": {},
   "source": [
    "-Visual Studio Code   \n",
    "    다른 텍스트 에디터는 사용해 보지 않았고, Visual Studio Code만 사용해 봤는데, 파일관리나 실행을 쉽게 할 수 있어서 좋았고 무엇보다 자동완성(Tab)기능이 아주 마음에 들었다."
   ]
  },
  {
   "cell_type": "code",
   "execution_count": 2,
   "id": "young-spiritual",
   "metadata": {},
   "outputs": [
    {
     "name": "stdout",
     "output_type": "stream",
     "text": [
      "4.5.1\n"
     ]
    }
   ],
   "source": [
    "import cv2\n",
    "\n",
    "print(cv2.__version__)"
   ]
  },
  {
   "cell_type": "markdown",
   "id": "liberal-mineral",
   "metadata": {},
   "source": [
    " "
   ]
  },
  {
   "cell_type": "markdown",
   "id": "worse-structure",
   "metadata": {},
   "source": [
    "# 2. openCV에 대해 알아보기(얼룩말 책 p35~53)"
   ]
  },
  {
   "cell_type": "markdown",
   "id": "painted-practitioner",
   "metadata": {},
   "source": [
    "## 1. 이미지의 크기 속성"
   ]
  },
  {
   "cell_type": "markdown",
   "id": "second-crossing",
   "metadata": {},
   "source": [
    "### 왜 새로운 이미지를 불러왔을 때 오류가 나죠?"
   ]
  },
  {
   "cell_type": "markdown",
   "id": "strange-assembly",
   "metadata": {},
   "source": [
    "-필드나 변수에 설정된 이미지 크기에 따라 원본 이미지를 삽입하게 되는데 이때 설정된 이미지의 크기와 실제 이미지의 크기가 다르다면 액자에 이미지를 담을 수 없다. 그러므로 원본 이미지의 크기를 변경하는 함수(Image Pyramid나 Resize)를 적용한 다음 변수나 필드로 불러와 사용할 수 있다."
   ]
  },
  {
   "cell_type": "markdown",
   "id": "duplicate-algeria",
   "metadata": {},
   "source": [
    "### 파이썬에서는 어떻게 이미지 크기를 표현하나요?(예제 2.2)"
   ]
  },
  {
   "cell_type": "code",
   "execution_count": 3,
   "id": "abroad-scanner",
   "metadata": {},
   "outputs": [
    {
     "ename": "NameError",
     "evalue": "name 'height' is not defined",
     "output_type": "error",
     "traceback": [
      "\u001b[0;31m---------------------------------------------------------------------------\u001b[0m",
      "\u001b[0;31mNameError\u001b[0m                                 Traceback (most recent call last)",
      "\u001b[0;32m<ipython-input-3-0cbc608a51cb>\u001b[0m in \u001b[0;36m<module>\u001b[0;34m\u001b[0m\n\u001b[0;32m----> 1\u001b[0;31m \u001b[0mcolor\u001b[0m \u001b[0;34m=\u001b[0m \u001b[0mnp\u001b[0m\u001b[0;34m.\u001b[0m\u001b[0mzeros\u001b[0m\u001b[0;34m(\u001b[0m\u001b[0;34m(\u001b[0m\u001b[0mheight\u001b[0m\u001b[0;34m,\u001b[0m \u001b[0mwidth\u001b[0m\u001b[0;34m,\u001b[0m \u001b[0;36m3\u001b[0m\u001b[0;34m)\u001b[0m\u001b[0;34m,\u001b[0m \u001b[0mnp\u001b[0m\u001b[0;34m.\u001b[0m\u001b[0muint8\u001b[0m\u001b[0;34m)\u001b[0m\u001b[0;34m\u001b[0m\u001b[0;34m\u001b[0m\u001b[0m\n\u001b[0m\u001b[1;32m      2\u001b[0m \u001b[0mgray\u001b[0m \u001b[0;34m=\u001b[0m \u001b[0mnp\u001b[0m\u001b[0;34m.\u001b[0m\u001b[0mzeros\u001b[0m\u001b[0;34m(\u001b[0m\u001b[0;34m(\u001b[0m\u001b[0mrows\u001b[0m\u001b[0;34m,\u001b[0m \u001b[0mcols\u001b[0m\u001b[0;34m,\u001b[0m \u001b[0;36m1\u001b[0m\u001b[0;34m)\u001b[0m\u001b[0;34m,\u001b[0m \u001b[0mnp\u001b[0m\u001b[0;34m.\u001b[0m\u001b[0muint8\u001b[0m\u001b[0;34m)\u001b[0m\u001b[0;34m\u001b[0m\u001b[0;34m\u001b[0m\u001b[0m\n",
      "\u001b[0;31mNameError\u001b[0m: name 'height' is not defined"
     ]
    }
   ],
   "source": [
    "color = np.zeros((height, width, 3), np.uint8)\n",
    "gray = np.zeros((rows, cols, 1), np.uint8)"
   ]
  },
  {
   "cell_type": "markdown",
   "id": "innovative-palace",
   "metadata": {},
   "source": [
    " "
   ]
  },
  {
   "cell_type": "markdown",
   "id": "vital-brighton",
   "metadata": {},
   "source": [
    "## 2. 정밀도"
   ]
  },
  {
   "cell_type": "markdown",
   "id": "instrumental-october",
   "metadata": {},
   "source": [
    "-정밀도(Bit Depth)란 이미지가 얼마나 많은 색상을 표현할 수 있느냐를 의미한다.   \n",
    "-정밀도는 색상을 표현하는 방법 중 하나다.   \n",
    "-정밀도가 높을수록 많은 색상을 표현할 수 있어 데이터의 폭이 넓어지고 더 자연스로운 이미지로 표시된다."
   ]
  },
  {
   "cell_type": "markdown",
   "id": "compact-weight",
   "metadata": {},
   "source": [
    "### 색상을 표현할 때 적어도 몇 비트가 필요한가요?"
   ]
  },
  {
   "cell_type": "markdown",
   "id": "furnished-minnesota",
   "metadata": {},
   "source": [
    "-최소 8-Bit가 필요하다. 8-Bit의 경우 2의 8제곱이 되어 256가지 값을 갖게 된다. 적어도 8비트여야 유의미한 데이터를 얻게 되어 색상을 표현할 수 있게 된다."
   ]
  },
  {
   "cell_type": "markdown",
   "id": "actual-purchase",
   "metadata": {},
   "source": [
    "### n.uint8이 표현할 수 있는 범위를 정수로 표현하면 얼마인가요?"
   ]
  },
  {
   "cell_type": "markdown",
   "id": "fallen-agriculture",
   "metadata": {},
   "source": [
    "-0 ~ 255의 범위"
   ]
  },
  {
   "cell_type": "markdown",
   "id": "amended-deposit",
   "metadata": {},
   "source": [
    " "
   ]
  },
  {
   "cell_type": "markdown",
   "id": "finite-second",
   "metadata": {},
   "source": [
    "## 3. 채널"
   ]
  },
  {
   "cell_type": "markdown",
   "id": "adapted-warrant",
   "metadata": {},
   "source": [
    "-채널은 그래픽스 이미지의 색상 정보를 담고 있다.   \n",
    "-채널은 일반적으로 Red, Green, Blue와 추가로 Alpha로 구성된다.   \n",
    "-이 밖에도 Hue, Saturation, Value 등의 채널도 있다.   \n",
    "-색상을 표시할 때는 주로 3~4채널의 값을 사용하고 흑백 이미지를 표현할 때는 1채널을 사용한다."
   ]
  },
  {
   "cell_type": "markdown",
   "id": "centered-liabilities",
   "metadata": {},
   "source": [
    "### 채널은 총 몇개인가요?"
   ]
  },
  {
   "cell_type": "markdown",
   "id": "permanent-stage",
   "metadata": {},
   "source": [
    "-4개 혹은 7개"
   ]
  },
  {
   "cell_type": "markdown",
   "id": "vertical-niger",
   "metadata": {},
   "source": [
    "### 흑백 이미지를 가져올 때 왜 단일 채널을 사용해야 하나요? 3채널을 쓰면 안되나요?"
   ]
  },
  {
   "cell_type": "markdown",
   "id": "chronic-buyer",
   "metadata": {},
   "source": [
    "-다중 채널로 사용한다면 동일한 값이 3회 반복된다.   \n",
    "-이 경우 불필요한 데이터가 할당되어 연산량의 증가와 정확도의 감소를 초래한다.   \n",
    "-많은 함수나 메서드에서 데이터의 양을 줄이고 정확도를 높이기 위해 입력 이미지를 변환해 단일 채널로 계산을 진행한다."
   ]
  },
  {
   "cell_type": "markdown",
   "id": "devoted-stadium",
   "metadata": {},
   "source": [
    " "
   ]
  },
  {
   "cell_type": "markdown",
   "id": "prescription-soccer",
   "metadata": {},
   "source": [
    "## 4. 관심 영역"
   ]
  },
  {
   "cell_type": "markdown",
   "id": "excited-installation",
   "metadata": {},
   "source": [
    "-관심 영역이란 이미지상에서 관심 있는 영역을 의미한다.   \n",
    "-흔히 ROI라 부르는데 Region Of Interest의 약자다.   \n",
    "-이미지를 처리할 때 객체를 탐지하거나 검출하는 영역을 명확하게 관심 영역이라 지정할 수 있다."
   ]
  },
  {
   "cell_type": "markdown",
   "id": "processed-porcelain",
   "metadata": {},
   "source": [
    "### 1920X1280 비율의 컬러 이미지를 가져온다면 몇 개의 데이터 공간이 생성되나요?"
   ]
  },
  {
   "cell_type": "markdown",
   "id": "mighty-photograph",
   "metadata": {},
   "source": [
    "-7,372,800개의 데이터 공간이 생성된다."
   ]
  },
  {
   "cell_type": "markdown",
   "id": "fifty-substance",
   "metadata": {},
   "source": [
    "### 관심 영역을 사용해야 하는 이유를 설명한다면요?"
   ]
  },
  {
   "cell_type": "markdown",
   "id": "framed-aurora",
   "metadata": {},
   "source": [
    "-관심 영역을 설정하면 연산량이 줄고 정확도가 높아져서 알고리즘의 효율성이 높아진다."
   ]
  },
  {
   "cell_type": "markdown",
   "id": "revised-lawsuit",
   "metadata": {},
   "source": [
    " "
   ]
  },
  {
   "cell_type": "markdown",
   "id": "proprietary-prerequisite",
   "metadata": {},
   "source": [
    "## 5. 관심 채널"
   ]
  },
  {
   "cell_type": "markdown",
   "id": "fewer-virginia",
   "metadata": {},
   "source": [
    "-관심 채널이란 이미지상에서 관심 있는 채널을 의미한다.   \n",
    "-보통 COI라 부르며 Channel Of Interest의 약자다.   \n",
    "-역시 이미지를 처리할 때 특정 채널을 사용해 연산을 진행하는 경우, 이부분을 관심채널이라 할 수 있다."
   ]
  },
  {
   "cell_type": "markdown",
   "id": "impressed-influence",
   "metadata": {},
   "source": [
    "### 관심 채널은 어디에 활용되나요?"
   ]
  },
  {
   "cell_type": "markdown",
   "id": "classical-convert",
   "metadata": {},
   "source": [
    "-특정 채널의 밝기 분포를 계산하거나 알파 혼합(Alpha Blending) 등에 활용할 수 있다."
   ]
  },
  {
   "cell_type": "markdown",
   "id": "victorian-lewis",
   "metadata": {},
   "source": [
    " "
   ]
  },
  {
   "cell_type": "markdown",
   "id": "relative-spring",
   "metadata": {},
   "source": [
    "## 6. 히스토그램"
   ]
  },
  {
   "cell_type": "markdown",
   "id": "black-newcastle",
   "metadata": {},
   "source": [
    "### 히스토그램이란 무엇인가요?"
   ]
  },
  {
   "cell_type": "markdown",
   "id": "agreed-eclipse",
   "metadata": {},
   "source": [
    "-히스토그램이란 도수 분포표 중 하나로 데이터의 분포를 몇 개의 구간으로 나누고 각 구간에 속하는 데이터를 시각적으로 표현한 막대그래프다."
   ]
  },
  {
   "cell_type": "markdown",
   "id": "final-grade",
   "metadata": {},
   "source": [
    "### 히스토그램이 갖는 세 가지 중요 요소를 말하고, 이를 설명해주세요."
   ]
  },
  {
   "cell_type": "markdown",
   "id": "civil-bunch",
   "metadata": {},
   "source": [
    "-빈도수(BINS): 히스토그램 그래프의 X 축 간격   \n",
    "-차원 수(DIMS): 히스토그램을 분석할 이미지의 차원   \n",
    "-범위(RANGE): 히스토그램 그래프의 X 축 범위"
   ]
  },
  {
   "cell_type": "markdown",
   "id": "clinical-insert",
   "metadata": {},
   "source": [
    "### 어떤 흑백 이미지를 가져와, 히스토그램을 출력해주세요.(예제 2.8 수행)"
   ]
  },
  {
   "cell_type": "code",
   "execution_count": null,
   "id": "authorized-samuel",
   "metadata": {},
   "outputs": [],
   "source": [
    "import cv2\n",
    "import numpy as np\n",
    "\n",
    "image = cv2.imread(\"image.jpg\")\n",
    "gray = cv2.cvtColor(image, cv2.COLOR_BGR2GRAY)\n",
    "result = np.zeros((image.shape[0], 256), dtype=np.uint8)\n",
    "\n",
    "hist = cv2.calcHist([image], [0], None, [256], [0, 256])\n",
    "cv2.normalize(hist, hist, 0, 255, cv2.NORM_MINMAX)\n",
    "\n",
    "for x, y in enumerate(hist):\n",
    "    cv2.line(result, (int(x), image.shape[0]), (int(x), image.shape[0] - int(y)), 255)\n",
    "    \n",
    "dst = np.hstack([image[:, :, 0], result])\n",
    "cv2.imshow(\"dst\", dst)\n",
    "cv2.waitKey(0)\n",
    "cv2.destroyAllWindows()"
   ]
  },
  {
   "cell_type": "markdown",
   "id": "lasting-bernard",
   "metadata": {},
   "source": [
    "### 히스토그램 클래스를 분석하고, 각각의 요소를 설명해주세요. C# openCV에만 있고 python-openCV에는 없는 요소는 무엇인가요?"
   ]
  },
  {
   "cell_type": "markdown",
   "id": "exciting-carter",
   "metadata": {},
   "source": [
    "-mask: 이미지를 분석할 영역을 따로 설정하는 역할을 한다.\n",
    "-histSize: 빈도수(BINS)를 설정하며, 히스토그램의 크기를 설정한다.   \n",
    "-ranges: 범위(RANGE)를 설정한다.   \n",
    "-accumulate: 히스토그램이 누적해 반영할지를 설정한다. 결과는 히스토그램(hist)에 저장된다."
   ]
  },
  {
   "cell_type": "markdown",
   "id": "attended-glucose",
   "metadata": {},
   "source": [
    "-차원의 수(dims)와 균일성(uniform) 매개변수는 C#openCvSharp에서만 사용한다."
   ]
  },
  {
   "cell_type": "markdown",
   "id": "declared-sandwich",
   "metadata": {},
   "source": [
    " "
   ]
  },
  {
   "cell_type": "markdown",
   "id": "balanced-strip",
   "metadata": {},
   "source": [
    "# 데이터 타입과 연산(얼룩말 책 p92~112)"
   ]
  },
  {
   "cell_type": "markdown",
   "id": "ranking-disco",
   "metadata": {},
   "source": [
    "## 1. numpy 데이터"
   ]
  },
  {
   "cell_type": "markdown",
   "id": "ambient-philadelphia",
   "metadata": {},
   "source": [
    "### python opencv에서는 Numpy의 배열 클래스 중 ndarray를 사용합니다. 이 클래스의 중요한 요소는 무엇이 있나요?"
   ]
  },
  {
   "cell_type": "markdown",
   "id": "excellent-observer",
   "metadata": {},
   "source": [
    "-차원의 수(ndim), 차원의 크기(shape), 데이터 형식(dtype)이 있다."
   ]
  },
  {
   "cell_type": "markdown",
   "id": "aggressive-isolation",
   "metadata": {},
   "source": [
    "### 예제 3.22를 수행하여 출력값을 확인하세요."
   ]
  },
  {
   "cell_type": "code",
   "execution_count": 1,
   "id": "helpful-delicious",
   "metadata": {},
   "outputs": [
    {
     "name": "stdout",
     "output_type": "stream",
     "text": [
      "2\n",
      "(2, 3)\n",
      "int64\n"
     ]
    }
   ],
   "source": [
    "import numpy as np\n",
    "\n",
    "array = np.array([[1,2,3],\n",
    "                 [4,5,6]])\n",
    "\n",
    "print(array.ndim)\n",
    "print(array.shape)\n",
    "print(array.dtype)"
   ]
  },
  {
   "cell_type": "markdown",
   "id": "better-portugal",
   "metadata": {},
   "source": [
    " "
   ]
  },
  {
   "cell_type": "markdown",
   "id": "reduced-charm",
   "metadata": {},
   "source": [
    "## 2. ndarray 클래스(n차원 배열)"
   ]
  },
  {
   "cell_type": "markdown",
   "id": "inside-success",
   "metadata": {},
   "source": [
    "### np.array 함수에서 C스타일과 Fortran스타일의 메모리 레이아웃의 차이를 설명해주세요."
   ]
  },
  {
   "cell_type": "markdown",
   "id": "matched-chamber",
   "metadata": {},
   "source": [
    "-C에서의 다차원 배열은 가장 빠르게 변화하는 색인의 순서로 할당된다.   \n",
    "-[i][j][k] 형태로 색인이 구성돼 있다면 k의 값부터 순차적으로 증가하고, 뒤의 배열 색인이 최댓값에 도달하면 그 앞의 색인이 증가하는 구조다.   \n",
    "-Fortran에서는 C와 반대로 i의 값두터 순차적으로 증가하고, 앞의 배열 색인이 최댓값에 도달하면 그 뒤의 색인이 증가하는 구조다.   \n",
    "-C 스타일은 행을 먼저 순차적으로 저장하며 Fortran 스타일은 열을 먼저 순차적으로 저장한다."
   ]
  },
  {
   "cell_type": "markdown",
   "id": "focal-accident",
   "metadata": {},
   "source": [
    "### 예제 3.23을 수행하여 출력값을 확인하세요."
   ]
  },
  {
   "cell_type": "code",
   "execution_count": null,
   "id": "equal-testing",
   "metadata": {},
   "outputs": [],
   "source": [
    "import numpy as np\n",
    "\n",
    "array1 = np.array([[1,2,3],[4,5,6]])\n",
    "array2 = np.array([1,2,3], dtype=complex, ndmin=3)\n",
    "array3 = np.array(array1, copy=False)\n",
    "array4 = np.array(np.mat('12;34'), subok=True)\n",
    "\n",
    "array1[0] = [4,5,6]\n",
    "\n",
    "print(array1)\n",
    "print(array2)\n",
    "print(array3)\n",
    "print(type(array4))"
   ]
  },
  {
   "cell_type": "markdown",
   "id": "bacterial-deputy",
   "metadata": {},
   "source": [
    "## 배열의 개별 단위 요소에 접근하기"
   ]
  },
  {
   "cell_type": "markdown",
   "id": "chinese-statement",
   "metadata": {},
   "source": [
    "### Mutable 객체란 무엇인가요?"
   ]
  },
  {
   "cell_type": "markdown",
   "id": "annual-lawrence",
   "metadata": {},
   "source": [
    "-변경이 가능한 객체"
   ]
  },
  {
   "cell_type": "markdown",
   "id": "impaired-project",
   "metadata": {},
   "source": [
    "### 얕은 복사와 깊은 복사의 차이를 설명해주세요."
   ]
  },
  {
   "cell_type": "markdown",
   "id": "premium-wheat",
   "metadata": {},
   "source": [
    "-얕은 복사: 복사본의 값을 바꿨을 때 원본의 값도 바뀌는 형태   \n",
    "-깊은 복사: 복사본의 값을 바꿔도 원본의 값은 바뀌지 않는 형태"
   ]
  },
  {
   "cell_type": "markdown",
   "id": "amended-lambda",
   "metadata": {},
   "source": [
    "### 예제 3.24를 수행하고 출력값을 확인하세요. 왜 출력값이 그렇게 나오는지 설명해주세요."
   ]
  },
  {
   "cell_type": "code",
   "execution_count": 1,
   "id": "adult-legislature",
   "metadata": {},
   "outputs": [
    {
     "name": "stdout",
     "output_type": "stream",
     "text": [
      "3\n",
      "2\n",
      "4\n"
     ]
    }
   ],
   "source": [
    "import numpy as np\n",
    "\n",
    "array1 = np.array([1, 2, 3])\n",
    "array2 = np.array([[1, 2],\n",
    "                   [3, 4]])\n",
    "array3 = np.array([[[1, 2],\n",
    "                    [3, 4]],\n",
    "                    [[5, 6],\n",
    "                    [7, 8]]])\n",
    "\n",
    "print(array1[-1])\n",
    "print(array2[0][1])\n",
    "print(array3[0][1][1])"
   ]
  },
  {
   "cell_type": "markdown",
   "id": "increasing-clerk",
   "metadata": {},
   "source": [
    "## 배열의 블록단위 요소에 접근하기"
   ]
  },
  {
   "cell_type": "markdown",
   "id": "regular-drill",
   "metadata": {},
   "source": [
    "### 예제 3.25를 수행하고 출력값을 확인하세요."
   ]
  },
  {
   "cell_type": "code",
   "execution_count": 5,
   "id": "israeli-dating",
   "metadata": {},
   "outputs": [
    {
     "name": "stdout",
     "output_type": "stream",
     "text": [
      "2\n",
      "4\n"
     ]
    }
   ],
   "source": [
    "import numpy as np\n",
    "\n",
    "array = np.array([[[1,2],\n",
    "                  [3,4]],\n",
    "                 [[5,6],\n",
    "                 [7,8]]])\n",
    "\n",
    "for i in array[0]:\n",
    "    for j in i:\n",
    "        if j % 2 == 0:\n",
    "            print(j)"
   ]
  },
  {
   "cell_type": "markdown",
   "id": "ethical-minneapolis",
   "metadata": {},
   "source": [
    "### 예제 3.26을 수행하고 출력값을 확인하세요."
   ]
  },
  {
   "cell_type": "code",
   "execution_count": 6,
   "id": "increased-liberty",
   "metadata": {},
   "outputs": [
    {
     "name": "stdout",
     "output_type": "stream",
     "text": [
      "[[ 6  7  8  9 10]\n",
      " [11 12 13 14 15]]\n",
      "[[ 1  2  3  4  5]\n",
      " [11 12 13 14 15]]\n",
      "[[12 14]\n",
      " [17 19]]\n"
     ]
    }
   ],
   "source": [
    "import numpy as np\n",
    "\n",
    "array = np.array([[1,2,3,4,5],\n",
    "                 [6,7,8,9,10],\n",
    "                 [11,12,13,14,15],\n",
    "                 [16,17,18,19,20]])\n",
    "\n",
    "print(array[1:3])\n",
    "print(array[::2])\n",
    "print(array[2:, 1::2])"
   ]
  },
  {
   "cell_type": "markdown",
   "id": "burning-venezuela",
   "metadata": {},
   "source": [
    "## 배열의 차원 변형"
   ]
  },
  {
   "cell_type": "markdown",
   "id": "flush-variation",
   "metadata": {},
   "source": [
    "### 예제 3.27을 수행하고 출력값을 확인하세요."
   ]
  },
  {
   "cell_type": "code",
   "execution_count": 7,
   "id": "nearby-affair",
   "metadata": {},
   "outputs": [
    {
     "name": "stdout",
     "output_type": "stream",
     "text": [
      "[[[ 0  1]\n",
      "  [ 2  3]\n",
      "  [ 4  5]]\n",
      "\n",
      " [[ 6  7]\n",
      "  [ 8  9]\n",
      "  [10 11]]]\n",
      "[[ 0  2  4  6  8 10]\n",
      " [ 1  3  5  7  9 11]]\n"
     ]
    }
   ],
   "source": [
    "import numpy as np\n",
    "\n",
    "array = np.arange(12)\n",
    "\n",
    "reshape1 = array.reshape(2,3,2)\n",
    "reshape2 = np.reshape(array, (2,-1), order='F')\n",
    "\n",
    "print(reshape1)\n",
    "print(reshape2)"
   ]
  },
  {
   "cell_type": "markdown",
   "id": "prescription-murray",
   "metadata": {},
   "source": [
    "### numpy가이드에서 np.reshape의 구성요소를 확인하고 설명해주세요."
   ]
  },
  {
   "cell_type": "code",
   "execution_count": null,
   "id": "endangered-stockholm",
   "metadata": {},
   "outputs": [],
   "source": []
  },
  {
   "cell_type": "markdown",
   "id": "tracked-impossible",
   "metadata": {},
   "source": [
    "## 배열의 차원 확장"
   ]
  },
  {
   "cell_type": "markdown",
   "id": "immediate-colony",
   "metadata": {},
   "source": [
    "### 예제 3.28을 수행하고 출력값을 확인해주세요."
   ]
  },
  {
   "cell_type": "code",
   "execution_count": 8,
   "id": "accomplished-passport",
   "metadata": {},
   "outputs": [
    {
     "name": "stdout",
     "output_type": "stream",
     "text": [
      "[[0 1 2 3]]\n",
      "[[0]\n",
      " [1]\n",
      " [2]\n",
      " [3]]\n"
     ]
    }
   ],
   "source": [
    "import numpy as np\n",
    "\n",
    "array = np.arange(4)\n",
    "\n",
    "axis1 = array[np.newaxis]\n",
    "axis2 = array[:, np.newaxis]\n",
    "\n",
    "print(axis1)\n",
    "print(axis2)"
   ]
  },
  {
   "cell_type": "markdown",
   "id": "strange-venice",
   "metadata": {},
   "source": [
    "### 예제 3.29을 수행하고 출력값을 확인해주세요."
   ]
  },
  {
   "cell_type": "code",
   "execution_count": 10,
   "id": "everyday-middle",
   "metadata": {},
   "outputs": [
    {
     "name": "stdout",
     "output_type": "stream",
     "text": [
      "[ 0  4  8  1  5  9  2  6 10  3  7 11]\n",
      "[ 0  1  2  3  4  5  6  7  8  9 10 11]\n"
     ]
    }
   ],
   "source": [
    "import numpy as np\n",
    "\n",
    "array = np.arange(12).reshape(3,-1)\n",
    "\n",
    "flat1 = array.flatten(order='F')\n",
    "flat2 = array.ravel()\n",
    "\n",
    "print(flat1)\n",
    "print(flat2)"
   ]
  },
  {
   "cell_type": "markdown",
   "id": "future-chrome",
   "metadata": {},
   "source": [
    "### np.newaxis에서는 어떤 값을 줄 수 있고, 각각 어떻게 다른가요?"
   ]
  },
  {
   "cell_type": "markdown",
   "id": "several-magazine",
   "metadata": {},
   "source": [
    "-대괄호 안에 np,newaxis를 지정해 배열의 차원을 증가시킨다.   \n",
    "-행 부분에 지정할 경우 차원을 한 단계 추가하며, 열 부분에 지정할 경우 요소를 분해한 뒤 차원을 한 단계 추가한다.   \n",
    "-행과 열 외에도 페이지 영역에도 복합적으로 사용할 수 있다."
   ]
  },
  {
   "cell_type": "markdown",
   "id": "brazilian-novel",
   "metadata": {},
   "source": [
    "## 배열의 병합 분리"
   ]
  },
  {
   "cell_type": "markdown",
   "id": "confidential-january",
   "metadata": {},
   "source": [
    "### 예제 3.30을 수행하고 출력값을 확인해주세요."
   ]
  },
  {
   "cell_type": "code",
   "execution_count": 12,
   "id": "delayed-bikini",
   "metadata": {},
   "outputs": [
    {
     "name": "stdout",
     "output_type": "stream",
     "text": [
      "[[[ 0  1  2]\n",
      "  [ 3  4  5]]\n",
      "\n",
      " [[ 6  7  8]\n",
      "  [ 9 10 11]]]\n",
      "[[[ 0  6]\n",
      "  [ 1  7]\n",
      "  [ 2  8]]\n",
      "\n",
      " [[ 3  9]\n",
      "  [ 4 10]\n",
      "  [ 5 11]]]\n"
     ]
    }
   ],
   "source": [
    "import numpy as np\n",
    "\n",
    "array1 = np.arange(6).reshape(2,3)\n",
    "array2 = np.arange(6,12).reshape(2,3)\n",
    "\n",
    "merge1 = np.stack([array1, array2], axis=0)\n",
    "merge2 = np.stack([array1, array2], axis=-1)\n",
    "\n",
    "print(merge1)\n",
    "print(merge2)"
   ]
  },
  {
   "cell_type": "markdown",
   "id": "placed-village",
   "metadata": {},
   "source": [
    "### 예제 3.31을 수행하고 출력값을 확인해주세요."
   ]
  },
  {
   "cell_type": "code",
   "execution_count": 13,
   "id": "expired-cause",
   "metadata": {},
   "outputs": [
    {
     "name": "stdout",
     "output_type": "stream",
     "text": [
      "[array([[0, 1, 2, 3, 4]]), array([[5, 6, 7, 8, 9]])]\n",
      "[array([[0, 1],\n",
      "       [5, 6]]), array([[2],\n",
      "       [7]]), array([[3, 4],\n",
      "       [8, 9]])]\n"
     ]
    }
   ],
   "source": [
    "import numpy as np \n",
    "\n",
    "array = np.arange(10).reshape(2, 5)\n",
    "\n",
    "detach1 = np.split(array, 2, axis=0)\n",
    "detach2 = np.split(array, [2, 3], axis=1)\n",
    "\n",
    "print(detach1)\n",
    "print(detach2)"
   ]
  },
  {
   "cell_type": "markdown",
   "id": "stopped-earth",
   "metadata": {},
   "source": [
    "### 표 3.22에는 다양한 배열 함수 및 상수가 있습니다. 이 중 노드에서 자주 썼던 함수는 뭐가 있었나요? 체크해봅시다."
   ]
  },
  {
   "cell_type": "markdown",
   "id": "moderate-insurance",
   "metadata": {},
   "source": []
  },
  {
   "cell_type": "markdown",
   "id": "coastal-formula",
   "metadata": {},
   "source": [
    "## 배열 연산"
   ]
  },
  {
   "cell_type": "markdown",
   "id": "apparent-faith",
   "metadata": {},
   "source": [
    "### 브로드캐스팅이란 무엇인가요?"
   ]
  },
  {
   "cell_type": "markdown",
   "id": "adjustable-marine",
   "metadata": {},
   "source": [
    "-브로드 캐스팅이란 Numpy 배열에서 차원의 크기가 서로 다른 배열에서도 산술 연산을 가능하게 하는 원리다.   \n",
    "-두 배열 간의 차원의 크기가 달라도 차원의 크기가 더 큰 배열에 대해 작은 배열을 여러 번 반복하지 않아도 되는 것을 의미한다."
   ]
  },
  {
   "cell_type": "markdown",
   "id": "contrary-testimony",
   "metadata": {},
   "source": [
    "### 형식 캐스팅이란 무엇인가요?"
   ]
  },
  {
   "cell_type": "markdown",
   "id": "employed-momentum",
   "metadata": {},
   "source": [
    "-형식 캐스팅이란 연산하려는 두 배열의 자료형을 비교해 표현 범위가 더 넓은 자료형을 선택하는 것을 말한다."
   ]
  },
  {
   "cell_type": "markdown",
   "id": "instrumental-glenn",
   "metadata": {},
   "source": [
    "### 예제 3.32를 수행하고 출력값을 확인해주세요."
   ]
  },
  {
   "cell_type": "code",
   "execution_count": 14,
   "id": "tough-constitution",
   "metadata": {},
   "outputs": [
    {
     "name": "stdout",
     "output_type": "stream",
     "text": [
      "[[2.5 4.5]\n",
      " [4.5 6.5]]\n"
     ]
    }
   ],
   "source": [
    "import numpy as np\n",
    "\n",
    "array1 = np.array([1,2,3,4]).reshape(2,2)\n",
    "array2 = np.array([1.5, 2.5])\n",
    "\n",
    "add = array1 + array2\n",
    "\n",
    "print(add)"
   ]
  },
  {
   "cell_type": "markdown",
   "id": "rental-turner",
   "metadata": {},
   "source": [
    " "
   ]
  },
  {
   "cell_type": "markdown",
   "id": "baking-baltimore",
   "metadata": {},
   "source": [
    "## matrix 클래스"
   ]
  },
  {
   "cell_type": "markdown",
   "id": "cognitive-lemon",
   "metadata": {},
   "source": [
    "### 예제 3.34을 수행하고 출력값을 확인해주세요."
   ]
  },
  {
   "cell_type": "code",
   "execution_count": 15,
   "id": "regular-sitting",
   "metadata": {},
   "outputs": [
    {
     "name": "stdout",
     "output_type": "stream",
     "text": [
      "[[26 30]\n",
      " [38 44]]\n",
      "[[ 7 10]\n",
      " [15 22]]\n"
     ]
    }
   ],
   "source": [
    "import numpy as np\n",
    "\n",
    "array1 = np.array([1,2,3,4]).reshape(2,2)\n",
    "array2 = np.array([5,6,7,8]).reshape(2,2)\n",
    "\n",
    "mat1 = np.mat(array1)\n",
    "mat2 = np.mat(array2)\n",
    "\n",
    "print(mat1.T*mat2)\n",
    "print(mat1**2)"
   ]
  },
  {
   "cell_type": "code",
   "execution_count": null,
   "id": "exposed-washer",
   "metadata": {},
   "outputs": [],
   "source": []
  }
 ],
 "metadata": {
  "kernelspec": {
   "display_name": "aiffel",
   "language": "python",
   "name": "aiffel"
  },
  "language_info": {
   "codemirror_mode": {
    "name": "ipython",
    "version": 3
   },
   "file_extension": ".py",
   "mimetype": "text/x-python",
   "name": "python",
   "nbconvert_exporter": "python",
   "pygments_lexer": "ipython3",
   "version": "3.7.6"
  }
 },
 "nbformat": 4,
 "nbformat_minor": 5
}
