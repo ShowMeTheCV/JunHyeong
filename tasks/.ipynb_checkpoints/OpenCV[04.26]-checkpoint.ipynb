{
 "cells": [
  {
   "cell_type": "markdown",
   "id": "banned-standing",
   "metadata": {},
   "source": [
    "# 이미지 변형"
   ]
  },
  {
   "cell_type": "markdown",
   "id": "innovative-module",
   "metadata": {},
   "source": [
    "## 1. 색상 공간 변환"
   ]
  },
  {
   "cell_type": "markdown",
   "id": "public-reply",
   "metadata": {},
   "source": [
    "-색상 공간 변환은 본래의 색상 공간에서 다른 색상 공간으로 변환할 때 사용한다.   \n",
    "-색상 공간 변환 함수는 데이터 타입을 같게 유지하고 채널을 변환한다.   \n",
    "-채널의 수가 감소하게 되어 이미지 내부의 데이터는 설정한 색상 공간과 일치하는 값으로 변환되며, 데이터 값이 변경되거나 채널 순서가 변경될 수 있다."
   ]
  },
  {
   "cell_type": "markdown",
   "id": "prepared-telescope",
   "metadata": {},
   "source": [
    "### Q1. python opencv의 색상 공간 변환 함수는 어떻게 생겼나요?"
   ]
  },
  {
   "cell_type": "code",
   "execution_count": null,
   "id": "double-springfield",
   "metadata": {},
   "outputs": [],
   "source": [
    "dst = cv2.cvtColor(\n",
    "    src,\n",
    "    code,\n",
    "    dstCn = None\n",
    ")"
   ]
  },
  {
   "cell_type": "markdown",
   "id": "portuguese-glance",
   "metadata": {},
   "source": [
    "-색상 변환 코드(code)를 사용해 BGR 색상 공간을 RGBA 색상 공간으로 변환하거나 그레이스케일, HSV, CIE Luv 등 단일 채널부터 3채널, 4채널의 색상 공간으로도 변환이 가능하다."
   ]
  },
  {
   "cell_type": "markdown",
   "id": "previous-gravity",
   "metadata": {},
   "source": [
    "### Q2. 예제 5.2와 표 5.1을 참고하여, 하나의 이미지를 불러온 후 색상 공간을 변환해보세요."
   ]
  },
  {
   "cell_type": "code",
   "execution_count": 3,
   "id": "lesser-scale",
   "metadata": {},
   "outputs": [],
   "source": [
    "import cv2\n",
    "\n",
    "src = cv2.imread(\"crow.jpg\")\n",
    "dst = cv2.cvtColor(src, cv2.COLOR_BGR2HSV)\n",
    "\n",
    "cv2.imshow(\"dst\", dst)\n",
    "cv2.waitKey(0)\n",
    "cv2.destroyAllWindows()"
   ]
  },
  {
   "cell_type": "markdown",
   "id": "federal-eligibility",
   "metadata": {},
   "source": [
    "-예제 5.2는 다중 채널 색상 이미지에서 다중 채널 색상 이미지(HSV)로 변환하는 예제다.   \n",
    "-HSV는 Hue, Saturation, Value의 약어로서 각각 색상, 채도, 명도를 의미한다."
   ]
  },
  {
   "cell_type": "markdown",
   "id": "permanent-camcorder",
   "metadata": {},
   "source": [
    "### Q3. 색상 공간에서 각 비트(8, 16, 32)별로 적용되는 범위는 어떻게 다른가요? 이 범위가 의미하는 차이가 무엇인가요?"
   ]
  },
  {
   "cell_type": "markdown",
   "id": "fifteen-problem",
   "metadata": {},
   "source": [
    "-8비트 이미지 색상 범위: 0 ~ 255   \n",
    "-16비트 이미지 색상 범위: 0 ~ 65,536   \n",
    "-32비트 이미지 색상 범위: 0.0 ~ 1.0"
   ]
  },
  {
   "cell_type": "markdown",
   "id": "allied-repair",
   "metadata": {},
   "source": [
    " "
   ]
  },
  {
   "cell_type": "markdown",
   "id": "thrown-federal",
   "metadata": {},
   "source": [
    "## 2. HSV 색상 공간"
   ]
  },
  {
   "cell_type": "markdown",
   "id": "spatial-script",
   "metadata": {},
   "source": [
    "-HSV(Hue, Saturation, Value) 공간은 색상을 표현하기에 가장 간편한 색상 공간이다.   \n",
    "-이미지에서 색상을 검출하나고 가정할 때 BGR이나 RGB 패턴으로는 인간이 인지하는 영역의 색상을 구별하기에는 매우 어렵고 복잡하다.   \n",
    "-HSV 색상 공간을 활용한다면 간편하고 빠르게 특정 색상을 검출하고 분리할 수 있다."
   ]
  },
  {
   "cell_type": "markdown",
   "id": "productive-annual",
   "metadata": {},
   "source": [
    "-Hue(색상): 빨간색, 노란색, 파란색 등으로 인식되는 색상 중 하나 또는 둘의 조합과 유사한 것처럼 보이는 시각적 감각의 속성을 의미한다.   \n",
    "-Saturation(채도): 이미지의 색상 깊이로, 색상이 얼마나 선명한(순수한) 색인지를 의미한다. 아무것도 섞지 않아 맑고 깨끗하며 원색에 가까운 것을 채도가 높다고 표현한다.   \n",
    "-Value(명도): 색의 밝고 어두운 정도를 의미한다. 명도가 높을수록 색상이 밝아지며, 명도가 낮을수록 색상이 어두워진다."
   ]
  },
  {
   "cell_type": "markdown",
   "id": "round-southwest",
   "metadata": {},
   "source": [
    "### Q4. python opencv의 채널 분리 함수는 어떻게 표현되나요? 각각의 요소는 무엇을 의미하나요?"
   ]
  },
  {
   "cell_type": "code",
   "execution_count": null,
   "id": "confident-bunny",
   "metadata": {},
   "outputs": [],
   "source": [
    "mv = cv2.split(\n",
    "    src\n",
    ")"
   ]
  },
  {
   "cell_type": "markdown",
   "id": "referenced-share",
   "metadata": {},
   "source": [
    "-src: 다중 채널 입력 이미지   \n",
    "-mv: 단일 채널 이미지 배열   \n",
    "\n",
    "-첫 번째 채널(mv[0]), 두 번째 채널(mv[1]), 세 번째 채널(mv[2])   \n",
    "-Python OpenCV에서는 리스트 형태로 반환된다."
   ]
  },
  {
   "cell_type": "markdown",
   "id": "quality-county",
   "metadata": {},
   "source": [
    "### Q5. python opencv의 채널 병합 함수는 어떻게 표현되나요? 각각의 요소는 무엇을 의미하나요?"
   ]
  },
  {
   "cell_type": "code",
   "execution_count": null,
   "id": "clear-loading",
   "metadata": {},
   "outputs": [],
   "source": [
    "# Python OpenCV의 채널 병합 함수\n",
    "dst = cv2.merge(\n",
    "    mv\n",
    ")"
   ]
  },
  {
   "cell_type": "markdown",
   "id": "enhanced-bennett",
   "metadata": {},
   "source": [
    "-mv: 단일 채널 이미지 배열   \n",
    "-dst: 출력 이미지"
   ]
  },
  {
   "cell_type": "markdown",
   "id": "innovative-innocent",
   "metadata": {},
   "source": [
    "### Q6. 배열 요소의 범위 설정 함수를 적어보고, 각 의미를 알려주세요."
   ]
  },
  {
   "cell_type": "code",
   "execution_count": null,
   "id": "specific-religion",
   "metadata": {},
   "outputs": [],
   "source": [
    "dst = cv2.inRange(\n",
    "    src,\n",
    "    lowerb,\n",
    "    upperb\n",
    ")"
   ]
  },
  {
   "cell_type": "markdown",
   "id": "electric-understanding",
   "metadata": {},
   "source": [
    "-배열 요소의 범위 설정 함수는 입력이미지(src)에서 낮은 범위(lowerb)에서 높은 범위(upperb) 사이의 요소를 검출한다.   \n",
    "-범위 안에 포함된다면 포함되는 값을 255로 변경하며, 포함되지 않은 값은 0으로 변경해서 출력 이미지(dst)로 반환한다."
   ]
  },
  {
   "cell_type": "markdown",
   "id": "eleven-ground",
   "metadata": {},
   "source": [
    "### Q7. 이미지를 하나 불러와서, 특정 색상만 검출해보세요. 예제 5.4를 참고하세요"
   ]
  },
  {
   "cell_type": "code",
   "execution_count": 4,
   "id": "underlying-lucas",
   "metadata": {},
   "outputs": [],
   "source": [
    "import cv2\n",
    "\n",
    "src = cv2.imread(\"tomato.jpg\")\n",
    "hsv = cv2.cvtColor(src, cv2.COLOR_BGR2HSV)\n",
    "\n",
    "h, s, v = cv2.split(hsv)\n",
    "h_red = cv2.inRange(h, 0, 5)\n",
    "\n",
    "dst = cv2.bitwise_and(hsv, hsv, mask = h_red)\n",
    "dst = cv2.cvtColor(dst, cv2.COLOR_HSV2BGR)\n",
    "\n",
    "cv2.imshow(\"dst\", dst)\n",
    "cv2.waitKey(0)\n",
    "cv2.destroyAllWindows()"
   ]
  },
  {
   "cell_type": "markdown",
   "id": "purple-avenue",
   "metadata": {},
   "source": [
    "-단순히 HSV 공간 중 Hue의 공간만 활용해 검출했기 때문에 완벽하게 검출에 성공하지는 못했다.   \n",
    "-붉은색은 앞선 Hue 공간의 범위에서 알 수 있듯이 170 이상의 값도 붉은색에 포함된다.   \n",
    "-이 문제를 해결하려면 배열 요소의 범위 설정 함수를 HSV 색상 공간으로 범위를 설정하고 검출한 두 요소의 배열을 병합해서 하나의 공간으로 만들어야 한다."
   ]
  },
  {
   "cell_type": "markdown",
   "id": "patent-breakfast",
   "metadata": {},
   "source": [
    "### Q8. python opencv의 배열 병합 함수를 적어보세요."
   ]
  },
  {
   "cell_type": "code",
   "execution_count": null,
   "id": "arabic-grass",
   "metadata": {},
   "outputs": [],
   "source": [
    "dst = cv2.addWeighted(\n",
    "    src1,\n",
    "    alpha,\n",
    "    src2,\n",
    "    beta,\n",
    "    gamma,\n",
    "    dtype = None\n",
    ")"
   ]
  },
  {
   "cell_type": "markdown",
   "id": "conceptual-victor",
   "metadata": {},
   "source": [
    "#### 배열 병합 함수 수식:"
   ]
  },
  {
   "cell_type": "markdown",
   "id": "returning-roulette",
   "metadata": {},
   "source": [
    "dst = src1 * alpha + src2 * beta + gamma"
   ]
  },
  {
   "cell_type": "markdown",
   "id": "atomic-suffering",
   "metadata": {},
   "source": [
    "### Q9. 예제 5.6을 수행하여 위의 이미지에서 하나의 색상값을 완벽히 추출해보세요."
   ]
  },
  {
   "cell_type": "code",
   "execution_count": 5,
   "id": "valid-raise",
   "metadata": {},
   "outputs": [],
   "source": [
    "import cv2\n",
    "\n",
    "src = cv2.imread(\"tomato.jpg\")\n",
    "hsv = cv2.cvtColor(src, cv2.COLOR_BGR2HSV)\n",
    "\n",
    "h, s, v = cv2.split(hsv)\n",
    "\n",
    "orange = cv2.inRange(hsv, (8, 100, 100), (20, 255, 255))\n",
    "blue = cv2.inRange(hsv, (110, 100, 100), (130, 255, 255))\n",
    "mix_color = cv2.addWeighted(orange, 1.0, blue, 1.0, 0.0)\n",
    "\n",
    "dst = cv2.bitwise_and(hsv, hsv, mask = mix_color)\n",
    "dst = cv2.cvtColor(dst, cv2.COLOR_HSV2BGR)\n",
    "\n",
    "cv2.imshow(\"dst\", dst)\n",
    "cv2.waitKey(0)\n",
    "cv2.destroyAllWindows()"
   ]
  },
  {
   "cell_type": "markdown",
   "id": "through-puzzle",
   "metadata": {},
   "source": [
    " "
   ]
  },
  {
   "cell_type": "markdown",
   "id": "invalid-capacity",
   "metadata": {},
   "source": [
    "## 3. 이진화"
   ]
  },
  {
   "cell_type": "markdown",
   "id": "utility-average",
   "metadata": {},
   "source": [
    "-동영상이나 이미지에서 어느 지점을 기준으로 픽셀을 분류해서 제외해야 할 때가 있다.   \n",
    "-이때 특정 값을 기준으로 값이 높거나 낮은 픽셀을 검은색 또는 흰색의 값으로 변경한다.   \n",
    "-즉, 기준값에 따라 이분법적으로 구분해 픽셍을 참 또는 거짓으로 나누는 연산이며, 이미지 행렬에서 모든 픽셀에 대해 이러한 연산을 수행하는 것이 이진화다."
   ]
  },
  {
   "cell_type": "markdown",
   "id": "voluntary-sugar",
   "metadata": {},
   "source": [
    "### Q10. python opencv의 이진화 함수는 어떻게 표현되나요? 각 옵션에 대해서도 설명해 주세요."
   ]
  },
  {
   "cell_type": "code",
   "execution_count": null,
   "id": "preliminary-credit",
   "metadata": {},
   "outputs": [],
   "source": [
    "retval, dst = cv2.threshold(\n",
    "    src,\n",
    "    thresh,\n",
    "    maxval,\n",
    "    type\n",
    ")"
   ]
  },
  {
   "cell_type": "markdown",
   "id": "coastal-tumor",
   "metadata": {},
   "source": [
    "-이진화 함수는 입력 이미지(src)를 입곗값 형식(type)에 따라 특정한 비교 연산을 진행한다.   \n",
    "-임곗값(thresh)보다 낮은 픽셀값은 0이나 원본 픽셀값으로 변경하며, 입곗값보다 높은 픽셀값은 최댓값(maxval)으로 변경한다.   \n",
    "-변형된 이미지는 출력 이미지(dst)에 저장되며, Python OpenCV에서는 설정 임계값(retval)도 반환된다."
   ]
  },
  {
   "cell_type": "markdown",
   "id": "pursuant-value",
   "metadata": {},
   "source": [
    "### Q11. 예제 5.8을 수행해보세요."
   ]
  },
  {
   "cell_type": "code",
   "execution_count": 6,
   "id": "square-cooperative",
   "metadata": {},
   "outputs": [],
   "source": [
    "import cv2\n",
    "\n",
    "src = cv2.imread(\"swan.jpg\")\n",
    "_, binary = cv2.threshold(src, 127, 255, cv2.THRESH_BINARY)\n",
    "\n",
    "cv2.imshow(\"binary\", binary)\n",
    "cv2.waitKey(0)\n",
    "cv2.destroyAllWindows()"
   ]
  },
  {
   "cell_type": "code",
   "execution_count": null,
   "id": "impressive-drive",
   "metadata": {},
   "outputs": [],
   "source": []
  }
 ],
 "metadata": {
  "kernelspec": {
   "display_name": "aiffel",
   "language": "python",
   "name": "aiffel"
  },
  "language_info": {
   "codemirror_mode": {
    "name": "ipython",
    "version": 3
   },
   "file_extension": ".py",
   "mimetype": "text/x-python",
   "name": "python",
   "nbconvert_exporter": "python",
   "pygments_lexer": "ipython3",
   "version": "3.7.6"
  }
 },
 "nbformat": 4,
 "nbformat_minor": 5
}
