{
 "cells": [
  {
   "cell_type": "markdown",
   "metadata": {},
   "source": [
    "# 이미지 변환"
   ]
  },
  {
   "cell_type": "markdown",
   "metadata": {},
   "source": [
    "-변환을 수학적으로 설명하면 좌표 (x, y)의 값을 좌표 (x', y')로 변환하는 함수로 볼 수 있다.   \n",
    "-변환의 종류로는 크게 이미지의 크기 변환, 특정 요소의 위치 변경, 이미지의 회전 등이 있다."
   ]
  },
  {
   "cell_type": "markdown",
   "metadata": {},
   "source": [
    "## 1. 확대 & 축소"
   ]
  },
  {
   "cell_type": "markdown",
   "metadata": {},
   "source": [
    "-이미지 피라미드: 입력 이미지의 크기를 단계적으로 변화시켜 원하는 단계에 도달할 때까지 진행하는 분석 작업   \n",
    "-원본 이미지에서 크기를 확대하는 것을 업샘플링이라 한다.   \n",
    "-원본 이미지에서 크기를 축소하는 것을 다운샘플링이라 하며, 상위 단계의 이미지를 생성하게 된다.   \n",
    "-이미지 피라미드로는 가우시안 피라미드(Gaussian Pyramid)와 라플라시안 피라미드(Laplacian Pyramid)를 활용한다."
   ]
  },
  {
   "cell_type": "markdown",
   "metadata": {},
   "source": [
    "### Q1. python opencv의 이미지 확대 함수는 어떻게 표현되나요?"
   ]
  },
  {
   "cell_type": "code",
   "execution_count": null,
   "metadata": {},
   "outputs": [],
   "source": [
    "dst = cv2.pyrUp(\n",
    "    src,\n",
    "    dstSize = None,\n",
    "    borderType = None\n",
    ")"
   ]
  },
  {
   "cell_type": "markdown",
   "metadata": {},
   "source": [
    "### Q2. python opencv의 이미지 축소 함수는 어떻게 표현되나요?"
   ]
  },
  {
   "cell_type": "code",
   "execution_count": null,
   "metadata": {},
   "outputs": [],
   "source": [
    "dst = cv2.pyrDown(\n",
    "    src,\n",
    "    dstSize = None,\n",
    "    borderType = None\n",
    ")"
   ]
  },
  {
   "cell_type": "markdown",
   "metadata": {},
   "source": [
    "### Q3. 하나의 이미지를 불러와, 예제 6.2(python opencv에서의 이미지 축소)를 시험해보세요."
   ]
  },
  {
   "cell_type": "code",
   "execution_count": null,
   "metadata": {},
   "outputs": [],
   "source": [
    "import cv2"
   ]
  },
  {
   "cell_type": "code",
   "execution_count": null,
   "metadata": {
    "scrolled": true
   },
   "outputs": [],
   "source": [
    "import cv2\n",
    "\n",
    "src = cv2.imread(\"ferris-wheel.jpg\")\n",
    "dst = src.copy()\n",
    "\n",
    "for i in range(3):\n",
    "    dst = cv2.pyrDown(dst)\n",
    "\n",
    "cv2.imshow(\"dst\", dst)\n",
    "cv2.waitKey(0)\n",
    "cv2.destroyAllWindows()"
   ]
  },
  {
   "cell_type": "markdown",
   "metadata": {},
   "source": [
    " "
   ]
  },
  {
   "cell_type": "markdown",
   "metadata": {},
   "source": [
    "## 2. 이미지 크기 조절"
   ]
  },
  {
   "cell_type": "markdown",
   "metadata": {},
   "source": [
    "이미지를 조절하는 방법 2가지   \n",
    "\n",
    "-이미지의 크기를 사용자가 요구하는 절대 크기로 변경.   \n",
    "-이미지의 크기를 비율에 맞게 상대적인 크기로 변경."
   ]
  },
  {
   "cell_type": "markdown",
   "metadata": {},
   "source": [
    "### Q4. python opencv의 이미지 크기 조절 함수는 어떻게 표현되나요?"
   ]
  },
  {
   "cell_type": "code",
   "execution_count": null,
   "metadata": {},
   "outputs": [],
   "source": [
    "dst = cv.resize(\n",
    "    src,\n",
    "    dsize,\n",
    "    fx = None,\n",
    "    fy = None,\n",
    "    interpolation = None\n",
    ")"
   ]
  },
  {
   "cell_type": "markdown",
   "metadata": {},
   "source": [
    "### Q5. 이미지를 불러와 사이즈를 조절해보세요.(예제 6.4(python opencv의 이미지 크기 조절))"
   ]
  },
  {
   "cell_type": "code",
   "execution_count": 2,
   "metadata": {},
   "outputs": [],
   "source": [
    "import cv2\n",
    "\n",
    "src = cv2.imread(\"car.png\")\n",
    "\n",
    "dst = src[280:310, 240:405]\n",
    "dst = cv2.resize(dst, dsize=(256,256), interpolation=cv2.INTER_NEAREST)\n",
    "\n",
    "cv2.imshow(\"dst\", dst)\n",
    "cv2.waitKey(0)\n",
    "cv2.destroyAllWindows()"
   ]
  },
  {
   "cell_type": "code",
   "execution_count": 3,
   "metadata": {},
   "outputs": [],
   "source": [
    "import cv2\n",
    "\n",
    "src = cv2.imread(\"car.png\")\n",
    "\n",
    "dst = src[280:310, 240:405]\n",
    "dst = cv2.resize(dst, dsize=(256,256), interpolation=cv2.INTER_LINEAR)\n",
    "\n",
    "cv2.imshow(\"dst\", dst)\n",
    "cv2.waitKey(0)\n",
    "cv2.destroyAllWindows()"
   ]
  },
  {
   "cell_type": "markdown",
   "metadata": {},
   "source": [
    " \n"
   ]
  },
  {
   "cell_type": "markdown",
   "metadata": {},
   "source": [
    "## 3. 대칭 & 회전"
   ]
  },
  {
   "cell_type": "markdown",
   "metadata": {},
   "source": [
    "-대칭은 기하학적인 측면에서 반사(Reflection)의 의미를 갖는다.   \n",
    "-대칭은 변환할 행렬(이미지)에 대해 2 x 2 행렬을 왼쪽 곱셈한다."
   ]
  },
  {
   "cell_type": "markdown",
   "metadata": {},
   "source": [
    "### Q6. python opencv의 대칭 함수는 어떻게 표현되나요?"
   ]
  },
  {
   "cell_type": "code",
   "execution_count": null,
   "metadata": {},
   "outputs": [],
   "source": [
    "dst = cv2.flip(\n",
    "    src,\n",
    "    flipCode\n",
    ")"
   ]
  },
  {
   "cell_type": "markdown",
   "metadata": {},
   "source": [
    "### python opencv의 2 x 3 회전 행렬 함수는 어떻게 표현되나요?"
   ]
  },
  {
   "cell_type": "code",
   "execution_count": null,
   "metadata": {},
   "outputs": [],
   "source": [
    "matrix = cv2.getRotationMatrix2D(\n",
    "    center,\n",
    "    angle,\n",
    "    scale\n",
    ")"
   ]
  },
  {
   "cell_type": "markdown",
   "metadata": {},
   "source": [
    "### Q7. 예제 6.6(python opencv)을 테스트하여 이미지를 대칭/회전시켜보세요."
   ]
  },
  {
   "cell_type": "code",
   "execution_count": 4,
   "metadata": {},
   "outputs": [],
   "source": [
    "import math\n",
    "import cv2\n",
    "\n",
    "src = cv2.imread(\"glass.jpg\")\n",
    "\n",
    "height, width, _ = src.shape\n",
    "center = (width / 2, height / 2)\n",
    "angle = 90\n",
    "scale = 0.5\n",
    "matrix = cv2.getRotationMatrix2D(center, angle, scale)\n",
    "\n",
    "radians = math.radians(angle)\n",
    "sin = math.sin(radians)\n",
    "cos = math.cos(radians)\n",
    "bound_w = int((height * scale * abs(sin)) + (width * scale * abs(cos)))\n",
    "bound_h = int((height * scale * abs(cos)) + (width * scale * abs(sin)))\n",
    "\n",
    "matrix[0, 2] += ((bound_w / 2) - center[0])\n",
    "matrix[1, 2] += ((bound_h / 2) - center[1])\n",
    "\n",
    "dst = cv2.warpAffine(src, matrix, (bound_w, bound_h))\n",
    "\n",
    "cv2.imshow(\"dst\", dst)\n",
    "cv2.waitKey(0)\n",
    "cv2.destroyAllWindows()"
   ]
  },
  {
   "cell_type": "markdown",
   "metadata": {},
   "source": [
    " "
   ]
  },
  {
   "cell_type": "markdown",
   "metadata": {},
   "source": [
    "## 4. 기하학적 변환"
   ]
  },
  {
   "cell_type": "markdown",
   "metadata": {},
   "source": [
    "-기하학적 변환(Geometric Transform)이란 이미지를 인위적으로 확대, 축소, 위치 변경, 회전, 왜곡하는 등 이미지의 형태를 변환하는 것을 의미한다.   \n",
    "-즉, 이미지를 구성하는 픽셀 좌푯값의 위치를 재배치하는 과정이다."
   ]
  },
  {
   "cell_type": "markdown",
   "metadata": {},
   "source": [
    "### Q8. python opencv의 아핀 변환 함수는 어떻게 생겼나요?"
   ]
  },
  {
   "cell_type": "code",
   "execution_count": null,
   "metadata": {},
   "outputs": [],
   "source": [
    "# 아핀 맵 행령 생성 함수\n",
    "M = cv2.getAffineTransform(\n",
    "    src,\n",
    "    dst\n",
    ")"
   ]
  },
  {
   "cell_type": "code",
   "execution_count": null,
   "metadata": {},
   "outputs": [],
   "source": [
    "# 아핀 변환 함수\n",
    "dst = cv2.warpAffine(\n",
    "    src,\n",
    "    M,\n",
    "    dsize,\n",
    "    dst = None,\n",
    "    flags = None,\n",
    "    borderMode = None,\n",
    "    borderValue = None\n",
    ")"
   ]
  },
  {
   "cell_type": "markdown",
   "metadata": {},
   "source": [
    "### Q9. python opencv의 원근 맵 행렬 생성 함수와, 원근 변환 함수는 어떻게 생겼나요?"
   ]
  },
  {
   "cell_type": "code",
   "execution_count": null,
   "metadata": {},
   "outputs": [],
   "source": [
    "# 원근 맵 행렬 생성 함수\n",
    "M = cv2.getPerspectiveTransform(\n",
    "    src,\n",
    "    dst\n",
    ")"
   ]
  },
  {
   "cell_type": "code",
   "execution_count": null,
   "metadata": {},
   "outputs": [],
   "source": [
    "# 원근 변환 함수\n",
    "dst = cv2.warpPerspective(\n",
    "    src,\n",
    "    M,\n",
    "    dsize,\n",
    "    dst = None,\n",
    "    flags = None,\n",
    "    borderMode = None,\n",
    "    borderValue = None\n",
    ")"
   ]
  },
  {
   "cell_type": "markdown",
   "metadata": {},
   "source": [
    "### Q10. 예제 6.8(python opencv의 원근 변환)를 참고하여, 이미지를 원근 변환 시켜보세요."
   ]
  },
  {
   "cell_type": "code",
   "execution_count": 7,
   "metadata": {},
   "outputs": [],
   "source": [
    "import numpy as np\n",
    "import cv2\n",
    "\n",
    "src = cv2.imread(\"clouds.jpg\", cv2.IMREAD_GRAYSCALE)\n",
    "_, binary = cv2.threshold(src, 127, 255, cv2.THRESH_BINARY)\n",
    "\n",
    "kernel = np.array([[1, 0, 0, 0, 1],\n",
    "                   [0, 1, 0, 1, 0],\n",
    "                   [0, 0, 1, 0, 0],\n",
    "                   [0, 1, 0, 1, 0],\n",
    "                   [1, 0, 0, 0, 1]])\n",
    "\n",
    "dst = cv2.morphologyEx(binary, cv2.MORPH_HITMISS, kernel, iterations=1)\n",
    "\n",
    "cv2.imshow(\"dst\", dst)\n",
    "cv2.waitKey(0)\n",
    "cv2.destroyAllWindows()"
   ]
  },
  {
   "cell_type": "code",
   "execution_count": null,
   "metadata": {},
   "outputs": [],
   "source": []
  }
 ],
 "metadata": {
  "kernelspec": {
   "display_name": "Python 3",
   "language": "python",
   "name": "python3"
  },
  "language_info": {
   "codemirror_mode": {
    "name": "ipython",
    "version": 3
   },
   "file_extension": ".py",
   "mimetype": "text/x-python",
   "name": "python",
   "nbconvert_exporter": "python",
   "pygments_lexer": "ipython3",
   "version": "3.7.10"
  }
 },
 "nbformat": 4,
 "nbformat_minor": 4
}
